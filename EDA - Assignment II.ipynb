{
 "cells": [
  {
   "cell_type": "code",
   "execution_count": null,
   "metadata": {
    "ExecuteTime": {
     "end_time": "2019-05-25T11:53:53.837675Z",
     "start_time": "2019-05-25T11:53:53.827755Z"
    },
    "hide_input": true
   },
   "outputs": [],
   "source": [
    "from IPython.core.display import HTML\n",
    "HTML('''\n",
    "<script>\n",
    "var logoParent = document.getElementById(\"kernel_logo_widget\")\n",
    "var logo = document.getElementById(\"kernel_logo_widget\").getElementsByClassName(\"current_kernel_logo\")[0];\n",
    "logo.src = \"https://i.ibb.co/mD4jTGQ/itclogo.jpg\";\n",
    "logo.style = \"display: inline; width:138px; height:40px\";\n",
    "logoParent.innerHTML = '<a href=\"https://i.ibb.co/mD4jTGQ/itclogo.jpg\">' + logoParent.innerHTML + '</a>';\n",
    "</script>\n",
    "''')"
   ]
  },
  {
   "cell_type": "code",
   "execution_count": null,
   "metadata": {},
   "outputs": [],
   "source": [
    "import pandas as pd\n",
    "import numpy as np\n",
    "import matplotlib.pyplot as plt\n",
    "%matplotlib inline\n",
    "import seaborn as sns"
   ]
  },
  {
   "cell_type": "markdown",
   "metadata": {
    "hide_input": true
   },
   "source": [
    "<font size=10><b>Exploratory Data Analysis (EDA) - Assignment</b></font> "
   ]
  },
  {
   "cell_type": "markdown",
   "metadata": {},
   "source": [
    "# Given Dataset"
   ]
  },
  {
   "cell_type": "markdown",
   "metadata": {},
   "source": [
    "Download and load this dataset: [House Prices](https://www.kaggle.com/c/house-prices-advanced-regression-techniques/download/train.csv)\n",
    "\n",
    "Look at the [Data Dictionary](https://www.kaggle.com/c/house-prices-advanced-regression-techniques/download/data_description.txt)"
   ]
  },
  {
   "cell_type": "markdown",
   "metadata": {},
   "source": [
    "# Assignment"
   ]
  },
  {
   "cell_type": "markdown",
   "metadata": {},
   "source": [
    "For the given dataset, perform EDA:\n",
    "\n",
    " 1. Checkout the data in terms of size, columns, etc...\n",
    " 2. Define the business problem\n",
    " 3. Define the dependent variable.\n",
    " 4. Define the categorical and continuous features (based on business logic)\n",
    " 5. Generate general summary statistics\n",
    " 6. Look at the distribution of missing values\n",
    " 7. Look at the number of unique values per categorical column\n",
    " 8. Perform data integrity checks\n",
    " 9. Extract more features from the data, look at it's distribution, note missing values, define if it is categorical or continuous, and look at the summary statistics of it.\n",
    " 10. Look at the distribution of each feature (make different plots for continuous and categorical features)\n",
    " 11. Look at the distribution of the data in comparison to the dependent variable\n",
    " 12. Look at the distribution of features against each other (inter-correlations)"
   ]
  },
  {
   "cell_type": "markdown",
   "metadata": {},
   "source": [
    "<div class=\"alert alert-info\"><b>NOTE:</b> You need to generate a report - write the logic behind every step you take, give your conclusions in a paragraph, and make everything very readable.</div>"
   ]
  },
  {
   "cell_type": "code",
   "execution_count": null,
   "metadata": {},
   "outputs": [],
   "source": [
    "df = pd.read_csv('train1.csv')\n",
    "df.head()"
   ]
  },
  {
   "cell_type": "markdown",
   "metadata": {},
   "source": [
    "# 1."
   ]
  },
  {
   "cell_type": "code",
   "execution_count": null,
   "metadata": {},
   "outputs": [],
   "source": [
    "df.info()"
   ]
  },
  {
   "cell_type": "code",
   "execution_count": null,
   "metadata": {},
   "outputs": [],
   "source": [
    "df.shape"
   ]
  },
  {
   "cell_type": "code",
   "execution_count": null,
   "metadata": {},
   "outputs": [],
   "source": [
    "df.columns"
   ]
  },
  {
   "cell_type": "code",
   "execution_count": null,
   "metadata": {},
   "outputs": [],
   "source": [
    "df.head()"
   ]
  },
  {
   "cell_type": "markdown",
   "metadata": {},
   "source": [
    "# 2."
   ]
  },
  {
   "cell_type": "markdown",
   "metadata": {},
   "source": [
    "The business problem is predicting the price of houses based on many characteristics of the house."
   ]
  },
  {
   "cell_type": "markdown",
   "metadata": {},
   "source": [
    "# 3."
   ]
  },
  {
   "cell_type": "markdown",
   "metadata": {},
   "source": [
    "Since the business problem is predicting the house price, then the dependant variable is SalePrice which is the sale price of each house."
   ]
  },
  {
   "cell_type": "markdown",
   "metadata": {},
   "source": [
    "# 4."
   ]
  },
  {
   "cell_type": "code",
   "execution_count": null,
   "metadata": {},
   "outputs": [],
   "source": [
    "my_features = {}\n",
    "my_features['MSSubClass'] = 'Categorical'\n",
    "my_features['MSZoning'] = 'Categorical'\n",
    "my_features['LotFrontage'] = 'Continuous'\n",
    "my_features['LotArea'] = 'Continuous'\n",
    "my_features['Street'] = 'Categorical'\n",
    "my_features['Alley'] = 'Categorical'\n",
    "my_features['LotShape'] = 'Categorical'\n",
    "my_features['LandContour'] = 'Categorical'\n",
    "my_features['Utilities'] = 'Categorical'\n",
    "my_features['LotConfig'] = 'Categorical'\n",
    "my_features['LandSlope'] = 'Categorical'\n",
    "my_features['Neighborhood'] = 'Categorical'\n",
    "my_features['Condition1'] = 'Categorical'\n",
    "my_features['Condition2'] = 'Categorical'\n",
    "my_features['BldgType'] = 'Categorical'\n",
    "my_features['HouseStyle'] = 'Categorical'\n",
    "my_features['OverallQual'] = 'Categorical'\n",
    "my_features['OverallCond'] = 'Categorical'\n",
    "my_features['YearBuilt'] = 'Categorical'\n",
    "my_features['YearRemodAdd'] = 'Categorical'\n",
    "my_features['RoofStyle'] = 'Categorical'\n",
    "my_features['RoofMatl'] = 'Categorical'\n",
    "my_features['Exterior1st'] = 'Categorical'\n",
    "my_features['Exterior2nd'] = 'Categorical'\n",
    "my_features['MasVnrType'] = 'Categorical'\n",
    "my_features['MasVnrArea'] = 'Continuous'\n",
    "my_features['ExterQual'] = 'Categorical'\n",
    "my_features['ExterCond'] = 'Categorical'\n",
    "my_features['Foundation'] = 'Categorical'\n",
    "my_features['BsmtQual'] = 'Categorical'\n",
    "my_features['BsmtCond'] = 'Categorical'\n",
    "my_features['BsmtExposure'] = 'Categorical'\n",
    "my_features['BsmtFinType1'] = 'Categorical'\n",
    "my_features['BsmtFinSF1'] = 'Continuous'\n",
    "my_features['BsmtFinType2'] = 'Categorical'\n",
    "my_features['BsmtFinSF2'] = 'Continuous'\n",
    "my_features['BsmtUnfSF'] = 'Continuous'\n",
    "my_features['TotalBsmtSF'] = 'Continuous'\n",
    "my_features['Heating'] = 'Categorical'\n",
    "my_features['HeatingQC'] = 'Categorical'\n",
    "my_features['CentralAir'] = 'Categorical'\n",
    "my_features['Electrical'] = 'Categorical'\n",
    "my_features['1stFlrSF'] = 'Continuous'\n",
    "my_features['2ndFlrSF'] = 'Continuous'\n",
    "my_features['LowQualFinSF'] = 'Continuous'\n",
    "my_features['GrLivArea'] = 'Continuous'\n",
    "my_features['BsmtFullBath'] = 'Categorical'\n",
    "my_features['BsmtHalfBath'] = 'Categorical'\n",
    "my_features['FullBath'] = 'Categorical'\n",
    "my_features['HalfBath'] = 'Categorical'\n",
    "my_features['BedroomAbvGr'] = 'Categorical'\n",
    "my_features['KitchenAbvGr'] = 'Categorical'\n",
    "my_features['KitchenQual'] = 'Categorical'\n",
    "my_features['TotRmsAbvGrd'] = 'Categorical'\n",
    "my_features['Functional'] = 'Categorical'\n",
    "my_features['Fireplaces'] = 'Categorical'\n",
    "my_features['FireplaceQu'] = 'Categorical'\n",
    "my_features['GarageType'] = 'Categorical'\n",
    "my_features['GarageYrBlt'] = 'Categorical'\n",
    "my_features['GarageFinish'] = 'Categorical'\n",
    "my_features['GarageCars'] = 'Categorical'\n",
    "my_features['GarageArea'] = 'Continuous'\n",
    "my_features['GarageQual'] = 'Categorical'\n",
    "my_features['GarageCond'] = 'Categorical'\n",
    "my_features['PavedDrive'] = 'Categorical'\n",
    "my_features['WoodDeckSF'] = 'Continuous'\n",
    "my_features['OpenPorchSF'] = 'Continuous'\n",
    "my_features['EnclosedPorch'] = 'Continuous'\n",
    "my_features['3SsnPorch'] = 'Continuous'\n",
    "my_features['ScreenPorch'] = 'Continuous'\n",
    "my_features['PoolArea'] = 'Continuous'\n",
    "my_features['PoolQC'] = 'Categorical'\n",
    "my_features['Fence'] = 'Categorical'\n",
    "my_features['MiscFeature'] = 'Categorical'\n",
    "my_features['MiscVal'] = 'Continuous'\n",
    "my_features['MoSold'] = 'Categorical'\n",
    "my_features['YrSold'] = 'Categorical'\n",
    "my_features['SaleType'] = 'Categorical'\n",
    "my_features['SaleCondition'] = 'Categorical'\n",
    "\n",
    "#Here I am checking that all the features in the columns are in my dictionary of features.\n",
    "#Note that I do not consider Id as a feature. So 80 features in total.\n",
    "\n",
    "for i in df.columns:\n",
    "    print(i, ' ', i in my_features.keys())\n",
    "    \n"
   ]
  },
  {
   "cell_type": "markdown",
   "metadata": {},
   "source": [
    "# 5."
   ]
  },
  {
   "cell_type": "code",
   "execution_count": null,
   "metadata": {},
   "outputs": [],
   "source": [
    "df.describe()"
   ]
  },
  {
   "cell_type": "markdown",
   "metadata": {},
   "source": [
    "# 6."
   ]
  },
  {
   "cell_type": "code",
   "execution_count": null,
   "metadata": {},
   "outputs": [],
   "source": [
    "isnan_series = df.isnull().sum()\n",
    "isnan_series.sort_values()"
   ]
  },
  {
   "cell_type": "markdown",
   "metadata": {},
   "source": [
    "# 7."
   ]
  },
  {
   "cell_type": "code",
   "execution_count": null,
   "metadata": {},
   "outputs": [],
   "source": [
    "df[[k for k, v in my_features.items() if v == 'Categorical']].nunique()"
   ]
  },
  {
   "cell_type": "markdown",
   "metadata": {},
   "source": [
    "# 8."
   ]
  },
  {
   "cell_type": "code",
   "execution_count": null,
   "metadata": {},
   "outputs": [],
   "source": [
    "assert(df['LotArea'] > 0).all() #check that all lot areas are above 0 since there must be some property"
   ]
  },
  {
   "cell_type": "code",
   "execution_count": null,
   "metadata": {},
   "outputs": [],
   "source": [
    "assert(df['1stFlrSF'] > 0).all() #check if the first floor has an area above 0 as well."
   ]
  },
  {
   "cell_type": "code",
   "execution_count": null,
   "metadata": {},
   "outputs": [],
   "source": [
    "assert(df['YearBuilt']<=2019).all() and (df['YearBuilt'] > 0).all()#make sure all years built are above 0 and below the current year"
   ]
  },
  {
   "cell_type": "code",
   "execution_count": null,
   "metadata": {},
   "outputs": [],
   "source": [
    "assert(df['PavedDrive'].isin(['Y', 'N', 'P'])).all() # check that there are not any unexpected values in the column PavedDrive"
   ]
  },
  {
   "cell_type": "code",
   "execution_count": null,
   "metadata": {},
   "outputs": [],
   "source": [
    "assert (df['YrSold'] >= df['YearBuilt']).all() #check that the year built is before the year of sale."
   ]
  },
  {
   "cell_type": "markdown",
   "metadata": {},
   "source": [
    "# 9."
   ]
  },
  {
   "cell_type": "code",
   "execution_count": null,
   "metadata": {},
   "outputs": [],
   "source": [
    "df.columns"
   ]
  },
  {
   "cell_type": "markdown",
   "metadata": {},
   "source": [
    "The most striking feature that should be engineered that comes to mind is combining all the square feet of the areas. n our case, 1stFlrSF, 2ndFlrSF and TotalBsmtSF. This is because mainly people view total area as a main factor when buying a house. It represents how much space and freedom a family has in a house (Especially in areas where the exterior living conditions make it less desirable to leave the house.). Many people care less about the space of their basement (where many of them spend little time) and more about the total space in the house."
   ]
  },
  {
   "cell_type": "code",
   "execution_count": null,
   "metadata": {},
   "outputs": [],
   "source": [
    "df[['1stFlrSF','2ndFlrSF','TotalBsmtSF']]"
   ]
  },
  {
   "cell_type": "code",
   "execution_count": null,
   "metadata": {},
   "outputs": [],
   "source": [
    "df['TotalSF'] = df['1stFlrSF'] + df['2ndFlrSF'] + df['TotalBsmtSF']"
   ]
  },
  {
   "cell_type": "markdown",
   "metadata": {},
   "source": [
    "I looked at many categorical data in the dictionary and realised that ExterQual is an important feature. The prestige of having your own house is having good quality on its exterior vs having an appartment where there is no \"Exterior\" to show off. good quality on the exterior is especially important in countries with damaging weather. It is nominal according to the dictionary but it would be more representative as ordinal data with ExterQual ranging from 1 to 5."
   ]
  },
  {
   "cell_type": "code",
   "execution_count": null,
   "metadata": {},
   "outputs": [],
   "source": [
    "ord_dict = {'Po': 1, 'Fa' : 2, 'TA' : 3, 'Gd' : 4,'Ex' : 5}"
   ]
  },
  {
   "cell_type": "code",
   "execution_count": null,
   "metadata": {},
   "outputs": [],
   "source": [
    "df['ExterQualOrd'] = df['ExterQual'].apply(lambda x: ord_dict[x])"
   ]
  },
  {
   "cell_type": "markdown",
   "metadata": {},
   "source": [
    "In the same manner as previously, I believe that the same should be done for HeatingQC since Heating is so important in many cold countries where there is a high demand for Good heating. But the same can be said for FireplaceQu. FireplaceQu is also very important. I would normally turn them both into ordinal data and combine them because they both serve the same purpose but FireplaceQu has 690 NaNs out of 1460 rows so this is not a good feature to use. Therefore I will simply convert HeatingQC into ordinal ranging from 1 to 5"
   ]
  },
  {
   "cell_type": "code",
   "execution_count": null,
   "metadata": {},
   "outputs": [],
   "source": [
    "df['HeatingQCOrd'] = df['HeatingQC'].apply(lambda x: ord_dict[x])"
   ]
  },
  {
   "cell_type": "markdown",
   "metadata": {},
   "source": [
    "Kitchens are also very important. Usually everyone cares so much about kitchens when they consider buying a house. So I will also turn KitchenQual into ordinal data ranging from 1 to 5."
   ]
  },
  {
   "cell_type": "code",
   "execution_count": null,
   "metadata": {},
   "outputs": [],
   "source": [
    "df['KitchenQualOrd'] = df['KitchenQual'].apply(lambda x: ord_dict[x])"
   ]
  },
  {
   "cell_type": "markdown",
   "metadata": {},
   "source": [
    "Another great feature to consider is the age of the house at sale. That means \"Year Sold\" - \"Year built\""
   ]
  },
  {
   "cell_type": "code",
   "execution_count": null,
   "metadata": {},
   "outputs": [],
   "source": [
    "df['HouseAge'] = df['YrSold'] - df['YearBuilt']"
   ]
  },
  {
   "cell_type": "markdown",
   "metadata": {},
   "source": [
    "Adding the new features to my feature dictionary:"
   ]
  },
  {
   "cell_type": "code",
   "execution_count": null,
   "metadata": {},
   "outputs": [],
   "source": [
    "my_features['TotalSF'] = 'Continuous'\n",
    "my_features['ExterQualOrd'] = 'Categorical'\n",
    "my_features['HeatingQCOrd'] = 'Categorical'\n",
    "my_features['KitchenQualOrd'] = 'Categorical'\n",
    "my_features['HouseAge'] = 'Continuous'"
   ]
  },
  {
   "cell_type": "code",
   "execution_count": null,
   "metadata": {},
   "outputs": [],
   "source": [
    "isnan_newsfeatures = df[['TotalSF','ExterQualOrd','HeatingQCOrd', 'KitchenQualOrd','HouseAge']].isnull().sum()\n",
    "isnan_newsfeatures.sort_values()"
   ]
  },
  {
   "cell_type": "code",
   "execution_count": null,
   "metadata": {},
   "outputs": [],
   "source": [
    "df[['TotalSF','ExterQualOrd','HeatingQCOrd', 'KitchenQualOrd','HouseAge']].describe()"
   ]
  },
  {
   "cell_type": "code",
   "execution_count": null,
   "metadata": {},
   "outputs": [],
   "source": [
    "df['ExterQualOrd'].value_counts()"
   ]
  },
  {
   "cell_type": "code",
   "execution_count": null,
   "metadata": {},
   "outputs": [],
   "source": [
    "df['HeatingQCOrd'].value_counts()"
   ]
  },
  {
   "cell_type": "code",
   "execution_count": null,
   "metadata": {},
   "outputs": [],
   "source": [
    "df['KitchenQualOrd'].value_counts()"
   ]
  },
  {
   "cell_type": "code",
   "execution_count": null,
   "metadata": {},
   "outputs": [],
   "source": [
    "f = plt.figure()\n",
    "plt.hist(df['TotalSF'], bins=50,label='TotalSF');\n",
    "plt.legend()\n",
    "plt.title(\"Histogram Plot of Total Square feet\")\n",
    "plt.xlabel('TotalSF')\n",
    "plt.ylabel('Frequency')\n",
    "plt.show()"
   ]
  },
  {
   "cell_type": "code",
   "execution_count": null,
   "metadata": {},
   "outputs": [],
   "source": [
    "f = plt.figure()\n",
    "plt.hist(df['HouseAge'], bins=50,label='HouseAge');\n",
    "plt.legend()\n",
    "plt.title(\"Histogram Plot of the Age of the House\")\n",
    "plt.xlabel('HouseAge')\n",
    "plt.ylabel('Frequency')\n",
    "plt.show()"
   ]
  },
  {
   "cell_type": "markdown",
   "metadata": {},
   "source": [
    "# 10."
   ]
  },
  {
   "cell_type": "code",
   "execution_count": null,
   "metadata": {},
   "outputs": [],
   "source": [
    "for my_feature in my_features.keys():\n",
    "    f = plt.figure(figsize=(10,5))\n",
    "    if my_features[my_feature] == 'Continuous':\n",
    "        sns.distplot(df[my_feature], kde=True, hist=False, \n",
    "             color = 'darkblue', \n",
    "             kde_kws={'linewidth': 4}).set_title(\"Density plot of {}\".format(my_feature)); \n",
    "        plt.ylabel('Density')\n",
    "    else:\n",
    "        plt.style.use('ggplot')\n",
    "        my_dist= df[my_feature].value_counts()\n",
    "        x = my_dist.index\n",
    "        my_counts = my_dist.values\n",
    "        x_pos = [i for i, _ in enumerate(x)]\n",
    "        plt.bar(x_pos, my_counts, color='blue')\n",
    "        plt.xlabel(my_feature,fontsize = 15)\n",
    "        plt.ylabel(\"{} Frequency\".format(my_feature), fontsize = 15)\n",
    "        plt.title(\"Distribution of {}\".format(my_feature),fontsize = 18)\n",
    "        plt.xticks(x_pos, x)\n",
    "        plt.show()\n",
    "        \n",
    "        "
   ]
  },
  {
   "cell_type": "markdown",
   "metadata": {},
   "source": [
    "# 11."
   ]
  },
  {
   "cell_type": "code",
   "execution_count": null,
   "metadata": {},
   "outputs": [],
   "source": [
    "for my_feature in my_features.keys():\n",
    "    f = plt.figure(figsize=(10,5))\n",
    "    if my_features[my_feature] == 'Continuous':\n",
    "        plt.scatter(df[my_feature], df['SalePrice'], color='blue');\n",
    "        plt.ylabel('House Sale Price')\n",
    "        plt.xlabel(my_feature)\n",
    "        plt.title(\"House Sale Price vs. {}\".format(my_feature),fontsize = 18)\n",
    "    else:\n",
    "        plt.style.use('ggplot')\n",
    "        my_dist= df[['SalePrice',my_feature ]].groupby(my_feature).mean()\n",
    "        x = my_dist.index.values\n",
    "        my_counts = my_dist['SalePrice']\n",
    "        x_pos = [i for i, _ in enumerate(x)]\n",
    "        plt.bar(x_pos, my_counts, color='blue')\n",
    "        plt.xlabel(my_feature,fontsize = 15)\n",
    "        plt.ylabel(\"Average House Sale Price\", fontsize = 15)\n",
    "        plt.title(\"House Sale Price vs. {}\".format(my_feature),fontsize = 18)\n",
    "        plt.xticks(x_pos, x)\n",
    "        plt.show()"
   ]
  },
  {
   "cell_type": "markdown",
   "metadata": {},
   "source": [
    "# 12.\n",
    "\n",
    "The following are the intercorrelations for all the numerical vs numerical data."
   ]
  },
  {
   "cell_type": "code",
   "execution_count": null,
   "metadata": {},
   "outputs": [],
   "source": [
    "f = plt.figure(figsize=(35,20))\n",
    "ax = sns.heatmap(df.corr(), annot=True, fmt=\".2f\")"
   ]
  },
  {
   "cell_type": "markdown",
   "metadata": {},
   "source": [
    "For the numerical vs categorical data I chose to plot the distributions against eachother using a boxplot for each:"
   ]
  },
  {
   "cell_type": "code",
   "execution_count": null,
   "metadata": {},
   "outputs": [],
   "source": [
    "key_list = list(my_features.keys())\n",
    "for my_index,my_feature in enumerate(key_list):\n",
    "    my_dic_len = len(my_features.keys())\n",
    "    for my_feature2 in key_list[my_index+1::]:\n",
    "        if (my_features[my_feature] == 'Continuous' and my_features[my_feature2] == 'Categorical'):\n",
    "            with sns.axes_style(style='ticks'):\n",
    "                g = sns.catplot(my_feature2, my_feature, data=df, kind=\"box\")\n",
    "                g.set_axis_labels(my_feature2,  my_feature)\n",
    "                plt.title('Box plot of {} distribution by {}\\n'.format(my_feature,my_feature2), \\\n",
    "                fontdict = {'size':20});\n",
    "            \n",
    "        elif (my_features[my_feature] == 'Categorical' and my_features[my_feature2] == 'Continuous'):\n",
    "            with sns.axes_style(style='ticks'):\n",
    "                g = sns.catplot(my_feature, my_feature2, data=df, kind=\"box\")\n",
    "                g.set_axis_labels(my_feature,  my_feature2)\n",
    "                plt.title('Box plot of {} distribution by {}\\n'.format(my_feature2,my_feature), \\\n",
    "                fontdict = {'size':20});\n"
   ]
  },
  {
   "cell_type": "markdown",
   "metadata": {},
   "source": [
    "We cannot look at any intercorrelations between 2 categorical features."
   ]
  }
 ],
 "metadata": {
  "kernelspec": {
   "display_name": "Python 3",
   "language": "python",
   "name": "python3"
  },
  "language_info": {
   "codemirror_mode": {
    "name": "ipython",
    "version": 3
   },
   "file_extension": ".py",
   "mimetype": "text/x-python",
   "name": "python",
   "nbconvert_exporter": "python",
   "pygments_lexer": "ipython3",
   "version": "3.7.3"
  },
  "latex_envs": {
   "LaTeX_envs_menu_present": true,
   "autoclose": false,
   "autocomplete": true,
   "bibliofile": "biblio.bib",
   "cite_by": "apalike",
   "current_citInitial": 1,
   "eqLabelWithNumbers": true,
   "eqNumInitial": 1,
   "hotkeys": {
    "equation": "Ctrl-E",
    "itemize": "Ctrl-I"
   },
   "labels_anchors": false,
   "latex_user_defs": false,
   "report_style_numbering": false,
   "user_envs_cfg": false
  },
  "toc": {
   "base_numbering": 1,
   "nav_menu": {},
   "number_sections": true,
   "sideBar": true,
   "skip_h1_title": false,
   "title_cell": "Table of Contents",
   "title_sidebar": "Contents",
   "toc_cell": false,
   "toc_position": {},
   "toc_section_display": true,
   "toc_window_display": false
  }
 },
 "nbformat": 4,
 "nbformat_minor": 2
}
